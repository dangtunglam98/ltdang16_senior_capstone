{
 "cells": [
  {
   "cell_type": "code",
   "execution_count": 157,
   "metadata": {},
   "outputs": [
    {
     "name": "stderr",
     "output_type": "stream",
     "text": [
      "[nltk_data] Downloading package wordnet to\n",
      "[nltk_data]     /eccs/users/ltdang16/nltk_data...\n",
      "[nltk_data]   Package wordnet is already up-to-date!\n",
      "[nltk_data] Downloading package sentiwordnet to\n",
      "[nltk_data]     /eccs/users/ltdang16/nltk_data...\n",
      "[nltk_data]   Package sentiwordnet is already up-to-date!\n",
      "[nltk_data] Downloading package punkt to\n",
      "[nltk_data]     /eccs/users/ltdang16/nltk_data...\n",
      "[nltk_data]   Package punkt is already up-to-date!\n",
      "[nltk_data] Downloading package stopwords to\n",
      "[nltk_data]     /eccs/users/ltdang16/nltk_data...\n",
      "[nltk_data]   Package stopwords is already up-to-date!\n"
     ]
    }
   ],
   "source": [
    "#Importing Necessary Data Corpus and Libraries\n",
    "import pandas as pd\n",
    "from nltk.tokenize import word_tokenize, sent_tokenize\n",
    "from nltk.corpus import wordnet as wn\n",
    "from nltk.corpus import sentiwordnet as swn\n",
    "from nltk.wsd import lesk\n",
    "from nltk.corpus import stopwords\n",
    "from sklearn.model_selection import train_test_split\n",
    "from sklearn.preprocessing import StandardScaler\n",
    "from sklearn.utils import resample\n",
    "from sklearn.linear_model import LogisticRegression\n",
    "from sklearn import metrics\n",
    "from keras.utils import to_categorical\n",
    "from keras import models\n",
    "from keras import layers\n",
    "from keras.optimizers import SGD\n",
    "import seaborn as sn\n",
    "import matplotlib.pyplot as plt\n",
    "import numpy as np\n",
    "import nltk\n",
    "import keras\n",
    "import tensorflow as tf\n",
    "\n",
    "nltk.download('wordnet')\n",
    "nltk.download('sentiwordnet')\n",
    "nltk.download('punkt')\n",
    "nltk.download('stopwords')\n",
    "NEGATE = {\n",
    "    \"n't\",\n",
    "    \"aint\",\n",
    "    \"arent\",\n",
    "    \"cannot\",\n",
    "    \"cant\",\n",
    "    \"couldnt\",\n",
    "    \"darent\",\n",
    "    \"didnt\",\n",
    "    \"doesnt\",\n",
    "    \"ain't\",\n",
    "    \"aren't\",\n",
    "    \"can't\",\n",
    "    \"couldn't\",\n",
    "    \"daren't\",\n",
    "    \"didn't\",\n",
    "    \"doesn't\",\n",
    "    \"dont\",\n",
    "    \"hadnt\",\n",
    "    \"hasnt\",\n",
    "    \"havent\",\n",
    "    \"isnt\",\n",
    "    \"mightnt\",\n",
    "    \"mustnt\",\n",
    "    \"neither\",\n",
    "    \"don't\",\n",
    "    \"hadn't\",\n",
    "    \"hasn't\",\n",
    "    \"haven't\",\n",
    "    \"isn't\",\n",
    "    \"mightn't\",\n",
    "    \"mustn't\",\n",
    "    \"neednt\",\n",
    "    \"needn't\",\n",
    "    \"never\",\n",
    "    \"none\",\n",
    "    \"nope\",\n",
    "    \"nor\",\n",
    "    \"not\",\n",
    "    \"nothing\",\n",
    "    \"nowhere\",\n",
    "    \"oughtnt\",\n",
    "    \"shant\",\n",
    "    \"shouldnt\",\n",
    "    \"uhuh\",\n",
    "    \"wasnt\",\n",
    "    \"werent\",\n",
    "    \"oughtn't\",\n",
    "    \"shan't\",\n",
    "    \"shouldn't\",\n",
    "    \"uh-uh\",\n",
    "    \"wasn't\",\n",
    "    \"weren't\",\n",
    "    \"without\",\n",
    "    \"wont\",\n",
    "    \"wouldnt\",\n",
    "    \"won't\",\n",
    "    \"wouldn't\",\n",
    "    \"rarely\",\n",
    "    \"seldom\",\n",
    "    \"despite\",\n",
    "}\n",
    "\n",
    "positive_file = open('positive-words.txt', 'r')\n",
    "POSITIVE = positive_file.read().splitlines()\n",
    "positive_file.close()\n",
    "\n",
    "negative_file = open('negative-words.txt', 'r')\n",
    "NEGATIVE = negative_file.read().splitlines()\n",
    "negative_file.close()\n",
    "\n"
   ]
  },
  {
   "cell_type": "code",
   "execution_count": 158,
   "metadata": {
    "scrolled": true
   },
   "outputs": [],
   "source": [
    "#Importing dataset\n",
    "data_frame = pd.read_json(r'Home_and_Kitchen_5.json', lines = True)"
   ]
  },
  {
   "cell_type": "code",
   "execution_count": 159,
   "metadata": {},
   "outputs": [
    {
     "data": {
      "text/plain": [
       "Good       451191\n",
       "Bad         50931\n",
       "Neutral     44607\n",
       "Name: overall, dtype: int64"
      ]
     },
     "execution_count": 159,
     "metadata": {},
     "output_type": "execute_result"
    }
   ],
   "source": [
    "#Changing score-based to label-based\n",
    "data_frame['overall'] = data_frame['overall'].replace(to_replace=[4, 5], value='Good')\n",
    "data_frame['overall'] = data_frame['overall'].replace(to_replace=[3], value='Neutral')\n",
    "data_frame['overall'] = data_frame['overall'].replace(to_replace=[1, 2], value='Bad')\n",
    "data_frame = data_frame.dropna()\n",
    "data_frame = data_frame.drop(['asin', 'helpful', 'reviewTime', 'reviewerID', 'reviewerName', 'summary', 'unixReviewTime'], axis = 1)\n",
    "data_frame.overall.value_counts()   #Checking Distribution of Labels"
   ]
  },
  {
   "cell_type": "code",
   "execution_count": 160,
   "metadata": {},
   "outputs": [],
   "source": [
    "#Downsample the Good Label for even distributions\n",
    "data_frame_good = data_frame[data_frame['overall'] == 'Good']\n",
    "data_frame_neutral = data_frame[data_frame['overall'] == 'Neutral']\n",
    "data_frame_bad = data_frame[data_frame['overall'] == 'Bad']\n",
    "\n",
    "data_frame_good = resample(data_frame_good, \n",
    "                   replace = False,\n",
    "                   n_samples = 50000,\n",
    "                   random_state = 123)\n",
    "data_frame = pd.concat([data_frame_good, data_frame_bad, data_frame_neutral])\n"
   ]
  },
  {
   "cell_type": "code",
   "execution_count": 161,
   "metadata": {},
   "outputs": [],
   "source": [
    "X = data_frame['reviewText']\n",
    "Y= data_frame['overall']"
   ]
  },
  {
   "cell_type": "code",
   "execution_count": 162,
   "metadata": {},
   "outputs": [],
   "source": [
    "\n",
    "def negated(input_words, include_nt=True):\n",
    "    \"\"\"\n",
    "    Determine if input contains negation words\n",
    "    \"\"\"\n",
    "    neg_words = NEGATE\n",
    "    if any(word.lower() in neg_words for word in input_words):\n",
    "        return True\n",
    "    if include_nt:\n",
    "        if any(\"n't\" in word.lower() for word in input_words):\n",
    "            return True\n",
    "    return False\n",
    "\n",
    "def negated_word(word, include_nt=True):\n",
    "    \"\"\"\n",
    "    Determine if input contains negation words\n",
    "    \"\"\"\n",
    "    neg_words = NEGATE\n",
    "    if word in neg_words:\n",
    "        return True\n",
    "    if include_nt:\n",
    "        if word == \"n't\" or word == \"t\":\n",
    "            return True\n",
    "        \n",
    "    return False\n",
    "\n",
    "def get_negation_statistic(data_frame):\n",
    "    \"\"\"\n",
    "    Get the statistic of: Count of Negation Word, Maximum amount of Negation word, Average Amount\n",
    "    \"\"\"\n",
    "    #Negation Counter\n",
    "    total_negation_count = 0\n",
    "    total_negation_sentence_count = 0\n",
    "    max_negation_count = 0\n",
    "    #Total sentence counter\n",
    "    total_sentence_count = 0\n",
    "    \n",
    "    #Sentiment Counter\n",
    "    total_sentiment_count = 0\n",
    "    total_negation_sentiment_count = 0\n",
    "    \n",
    "    reviewList = data_frame['reviewText'].tolist()\n",
    "    for sentence in reviewList:\n",
    "        sentence_tokenizer = word_tokenize(sentence)\n",
    "        review_negation_count = 0\n",
    "        review_sentiment_count = 0\n",
    "        for word in sentence_tokenizer:\n",
    "            if negated_word(word):\n",
    "                review_negation_count += 1\n",
    "            if word == '.': #at the end of the sentence\n",
    "                total_sentence_count += 1\n",
    "                if review_negation_count == 0: #There's no negation word\n",
    "                    pass\n",
    "                else: #There's a negation\n",
    "                    if review_negation_count > max_negation_count:\n",
    "                        max_negation_count = review_negation_count\n",
    "                    total_negation_count += review_negation_count\n",
    "                    total_negation_sentence_count += 1\n",
    "                    review_negation_count = 0\n",
    "    return total_negation_count, total_negation_sentence_count, total_sentence_count, total_negation_count/total_negation_sentence_count, max_negation_count\n",
    "    \n",
    "stop_words = set(stopwords.words('english'))\n",
    "def get_sentiment(sentence_token):\n",
    "    \"\"\"\n",
    "    Identify and keep track of positive/negative word in a review\n",
    "    \"\"\"\n",
    "    positive_index = []\n",
    "    negative_index = []\n",
    "    for wordIndex in range(len(sentence_token)):\n",
    "        word = sentence_token[wordIndex].lower()\n",
    "        if word in stop_words or word in NEGATE:\n",
    "            pass\n",
    "        else:\n",
    "            if word in NEGATIVE:\n",
    "                  negative_index.append(wordIndex)  \n",
    "            elif word in POSITIVE:\n",
    "                positive_index.append(wordIndex)\n",
    "    return positive_index, negative_index\n",
    "\n",
    "def get_negation(sentence_token):\n",
    "    \"\"\"\n",
    "    Identify and keep track of positive/negative word in a review\n",
    "    \"\"\"\n",
    "    negation_list = []\n",
    "    pos_after_negation = []\n",
    "    for wordIndex in range(len(sentence_token)):\n",
    "        word = sentence_token[wordIndex].lower()\n",
    "        if negated_word(word):\n",
    "            negation_list.append(wordIndex)\n",
    "            \n",
    "    return negation_list, len(negation_list)\n",
    "    \n",
    "def is_closest_sentiment_positive(value, pos_list, neg_list):\n",
    "    \"\"\"\n",
    "    Identify the emotion of the sentiment word in a Negation-Sentiment Word Pair\n",
    "    \"\"\"\n",
    "    smallest = 1000000\n",
    "    positive = True\n",
    "    for item in pos_list:\n",
    "        if item > value and item < smallest:\n",
    "            smallest = item\n",
    "    for item in neg_list:\n",
    "        if item > value and item < smallest:\n",
    "            positive = False\n",
    "    if smallest == 1000000:\n",
    "        positive = None\n",
    "    return positive\n",
    "\n",
    "def calculate_negate_sentiment_score(value, pos_list, neg_list):\n",
    "    \"\"\"\n",
    "    Calculate the Negation Score Based of the Distance Between the two words\n",
    "    \"\"\"\n",
    "    is_positive = True\n",
    "    closest_index = 10000000\n",
    "    for item in pos_list:\n",
    "        if item > value and item < closest_index:\n",
    "            closest_index = item\n",
    "    for item in neg_list:\n",
    "        if item > value and item < closest_index:\n",
    "            closest_index = item\n",
    "            is_positive = False\n",
    "    if closest_index == 10000000:\n",
    "        return 0\n",
    "    if is_positive == False:\n",
    "        score = 1/(closest_index - value)\n",
    "    else:\n",
    "        score = -1/(closest_index - value)\n",
    "    \n",
    "    return score\n",
    "\n",
    "\n",
    "def preprocess_sentence(sentence):\n",
    "    \"\"\"\n",
    "    Return a vector of features for each review:\n",
    "    Number of Negation Word, Number of Sentiment Word, Positive Score, Negative Score, Accumulative Score\n",
    "    \"\"\"\n",
    "    vector = []\n",
    "    sentence_token = nltk.word_tokenize(sentence)\n",
    "    pos_index , neg_index = get_sentiment(sentence_token)\n",
    "    negate_index, num_negate = get_negation(sentence_token)\n",
    "    pos_score = len(pos_index)\n",
    "    neg_score = len(neg_index)\n",
    "    num_sent = pos_score + neg_score\n",
    "    if num_sent == 0:\n",
    "        return None\n",
    "    else:\n",
    "        vector.append(num_negate)\n",
    "        vector.append(num_sent)\n",
    "        true_pos = pos_score\n",
    "        true_neg = neg_score\n",
    "        negate_score = 0\n",
    "        for negateIndex in negate_index:\n",
    "            closest_is_positive = is_closest_sentiment_positive(negateIndex, pos_index, neg_index)\n",
    "            if closest_is_positive == True:\n",
    "                true_pos -= 1\n",
    "            elif closest_is_positive == False:\n",
    "                true_neg -= 1\n",
    "            else:\n",
    "                pass\n",
    "            negate_score += calculate_negate_sentiment_score(negateIndex, pos_index, neg_index)\n",
    "        accumulative_score = true_pos + negate_score - true_neg\n",
    "        vector.append(true_pos)\n",
    "        vector.append(true_neg)\n",
    "        vector.append(accumulative_score)\n",
    "    \n",
    "        return vector\n",
    "\n",
    "def preprocess_review(review):\n",
    "    review_vector = [0,0,0,0,0]\n",
    "    review_token = sent_tokenize(review)\n",
    "    for sentence in review_token:\n",
    "        sentence_vector = preprocess_sentence(sentence)\n",
    "        if sentence_vector == None:\n",
    "            pass\n",
    "        else:\n",
    "            review_vector = [sum(i) for i in zip(sentence_vector, review_vector)] \n",
    "    return review_vector\n",
    "\n",
    "def preprocess_dataframe(list_review):\n",
    "    preprocessed = []\n",
    "    for review in list_review:\n",
    "        preprocessed.append(preprocess_review(review))\n",
    "    \n",
    "    preprocessed_df = pd.DataFrame(preprocessed, columns=[\"negation_count\", \"sentiment_count\", \"positive_count\",\n",
    "                                                         \"negative_count\", \"accumulative_score\"])\n",
    "    return preprocessed_df\n"
   ]
  },
  {
   "cell_type": "code",
   "execution_count": 163,
   "metadata": {},
   "outputs": [
    {
     "data": {
      "text/plain": [
       "[1, 2, 0, 1, -2.0]"
      ]
     },
     "execution_count": 163,
     "metadata": {},
     "output_type": "execute_result"
    }
   ],
   "source": [
    "#Example of preprocessing a negative review\n",
    "sentence = \"I don't like cake. It's awful\"\n",
    "preprocessed_sentence = preprocess_review(sentence)\n",
    "preprocessed_sentence"
   ]
  },
  {
   "cell_type": "code",
   "execution_count": 169,
   "metadata": {},
   "outputs": [],
   "source": [
    "#Preprocess the entire dataset (Warning: It takes approx 1hr)\n",
    "X = preprocess_dataframe(X)"
   ]
  },
  {
   "cell_type": "code",
   "execution_count": 173,
   "metadata": {},
   "outputs": [],
   "source": [
    "#Splitting the Preprocessed dataset to train set and test set\n",
    "X_train, X_test, Y_train, Y_test = train_test_split(X, Y, train_size = 0.7, random_state = 123)\n",
    "train_norm = X_train[X_train.columns[0:6]]\n",
    "test_norm = X_test[X_test.columns[0:5]]\n"
   ]
  },
  {
   "cell_type": "code",
   "execution_count": 174,
   "metadata": {},
   "outputs": [],
   "source": [
    "#Normalize the data to prevent outliers\n",
    "std_scaler = StandardScaler().fit(train_norm)\n",
    "X_train_norm = std_scaler.transform(train_norm)\n",
    "std_scaler_test = StandardScaler().fit(test_norm)\n",
    "X_test_norm = std_scaler.transform(test_norm)\n",
    "testing_norm_col = pd.DataFrame(X_test_norm, index=test_norm.index, columns=test_norm.columns)\n"
   ]
  },
  {
   "cell_type": "code",
   "execution_count": 175,
   "metadata": {},
   "outputs": [],
   "source": [
    "training_norm_col = pd.DataFrame(X_train_norm, index=train_norm.index, columns=train_norm.columns) "
   ]
  },
  {
   "cell_type": "code",
   "execution_count": 176,
   "metadata": {},
   "outputs": [
    {
     "name": "stderr",
     "output_type": "stream",
     "text": [
      "/mounts/bowie/software/anaconda3/lib/python3.7/site-packages/sklearn/linear_model/logistic.py:469: FutureWarning: Default multi_class will be changed to 'auto' in 0.22. Specify the multi_class option to silence this warning.\n",
      "  \"this warning.\", FutureWarning)\n"
     ]
    }
   ],
   "source": [
    "#Logistic Regression\n",
    "\n",
    "LogisticRegr = LogisticRegression(solver = 'lbfgs')        #Initialize the Logistic Regression Model\n",
    "LogisticRegr.fit(training_norm_col, Y_train)               #Model Training\n",
    "predicted = LogisticRegr.predict(testing_norm_col)         #Model Prediction"
   ]
  },
  {
   "cell_type": "code",
   "execution_count": 177,
   "metadata": {},
   "outputs": [
    {
     "data": {
      "text/plain": [
       "array(['Bad'], dtype=object)"
      ]
     },
     "execution_count": 177,
     "metadata": {},
     "output_type": "execute_result"
    }
   ],
   "source": [
    "#Testing Model prediction with a negative review\n",
    "sentence = \"I don't like cake. It's awful\"\n",
    "preprocessed_sentence = preprocess_review(sentence)\n",
    "LogisticRegr.predict([preprocessed_sentence])"
   ]
  },
  {
   "cell_type": "code",
   "execution_count": 178,
   "metadata": {},
   "outputs": [
    {
     "data": {
      "text/plain": [
       "array(['Good'], dtype=object)"
      ]
     },
     "execution_count": 178,
     "metadata": {},
     "output_type": "execute_result"
    }
   ],
   "source": [
    "#Testing Model prediction with a positive review\n",
    "sentence = \"I like Computer Science. It's nice\"\n",
    "preprocessed_sentence = preprocess_review(sentence)\n",
    "LogisticRegr.predict([preprocessed_sentence])"
   ]
  },
  {
   "cell_type": "code",
   "execution_count": 166,
   "metadata": {},
   "outputs": [
    {
     "name": "stdout",
     "output_type": "stream",
     "text": [
      "Accuracy score of the Logistic model is 54.43177133434107\n"
     ]
    }
   ],
   "source": [
    "print(\"Accuracy score of the Logistic model is \" + str(LogisticRegr.score(testing_norm_col, Y_test)*100))"
   ]
  },
  {
   "cell_type": "code",
   "execution_count": 72,
   "metadata": {},
   "outputs": [
    {
     "data": {
      "image/png": "[encoded data removed]",
      "text/plain": [
       "<Figure size 576x432 with 2 Axes>"
      ]
     },
     "metadata": {},
     "output_type": "display_data"
    }
   ],
   "source": [
    "#Heatmap confusion matrix\n",
    "matrix = metrics.confusion_matrix(Y_test, predicted)\n",
    "df_matrix = pd.DataFrame(matrix, index=[\"Good\", \"Bad\", \"Neutral\"], columns=[\"Good\", \"Bad\", \"Neutral\"])\n",
    "fig, ax = plt.subplots(figsize=(8,6))\n",
    "ax.set_ylim([0,2])\n",
    "sn.set(font_scale=1.5) # for label size\n",
    "sn.heatmap(df_matrix, annot=True, cmap='Blues') # font size\n",
    "plt.show()\n"
   ]
  },
  {
   "cell_type": "code",
   "execution_count": 75,
   "metadata": {},
   "outputs": [
    {
     "data": {
      "text/html": [
       "<div>\n",
       "<style scoped>\n",
       "    .dataframe tbody tr th:only-of-type {\n",
       "        vertical-align: middle;\n",
       "    }\n",
       "\n",
       "    .dataframe tbody tr th {\n",
       "        vertical-align: top;\n",
       "    }\n",
       "\n",
       "    .dataframe thead th {\n",
       "        text-align: right;\n",
       "    }\n",
       "</style>\n",
       "<table border=\"1\" class=\"dataframe\">\n",
       "  <thead>\n",
       "    <tr style=\"text-align: right;\">\n",
       "      <th></th>\n",
       "      <th>Good</th>\n",
       "      <th>Bad</th>\n",
       "      <th>Neutral</th>\n",
       "    </tr>\n",
       "  </thead>\n",
       "  <tbody>\n",
       "    <tr>\n",
       "      <td>Good</td>\n",
       "      <td>11223</td>\n",
       "      <td>3333</td>\n",
       "      <td>794</td>\n",
       "    </tr>\n",
       "    <tr>\n",
       "      <td>Bad</td>\n",
       "      <td>2925</td>\n",
       "      <td>11471</td>\n",
       "      <td>633</td>\n",
       "    </tr>\n",
       "    <tr>\n",
       "      <td>Neutral</td>\n",
       "      <td>6765</td>\n",
       "      <td>5446</td>\n",
       "      <td>1072</td>\n",
       "    </tr>\n",
       "  </tbody>\n",
       "</table>\n",
       "</div>"
      ],
      "text/plain": [
       "          Good    Bad  Neutral\n",
       "Good     11223   3333      794\n",
       "Bad       2925  11471      633\n",
       "Neutral   6765   5446     1072"
      ]
     },
     "execution_count": 75,
     "metadata": {},
     "output_type": "execute_result"
    }
   ],
   "source": [
    "#Actual data from the confusion matrix\n",
    "df_matrix"
   ]
  },
  {
   "cell_type": "code",
   "execution_count": 147,
   "metadata": {},
   "outputs": [
    {
     "name": "stdout",
     "output_type": "stream",
     "text": [
      "Train on 101876 samples, validate on 43662 samples\n",
      "Epoch 1/26\n",
      "101876/101876 [==============================] - 1s 13us/step - loss: 1.0406 - accuracy: 0.5200 - val_loss: 0.9453 - val_accuracy: 0.5412\n",
      "Epoch 2/26\n",
      "101876/101876 [==============================] - 1s 9us/step - loss: 0.9433 - accuracy: 0.5404 - val_loss: 0.9403 - val_accuracy: 0.5407\n",
      "Epoch 3/26\n",
      "101876/101876 [==============================] - 1s 9us/step - loss: 0.9400 - accuracy: 0.5409 - val_loss: 0.9370 - val_accuracy: 0.5440\n",
      "Epoch 4/26\n",
      "101876/101876 [==============================] - 1s 10us/step - loss: 0.9371 - accuracy: 0.5433 - val_loss: 0.9341 - val_accuracy: 0.5446\n",
      "Epoch 5/26\n",
      "101876/101876 [==============================] - 1s 9us/step - loss: 0.9356 - accuracy: 0.5433 - val_loss: 0.9328 - val_accuracy: 0.5445\n",
      "Epoch 6/26\n",
      "101876/101876 [==============================] - 1s 10us/step - loss: 0.9342 - accuracy: 0.5445 - val_loss: 0.9319 - val_accuracy: 0.5449\n",
      "Epoch 7/26\n",
      "101876/101876 [==============================] - 1s 10us/step - loss: 0.9335 - accuracy: 0.5440 - val_loss: 0.9324 - val_accuracy: 0.5460\n",
      "Epoch 8/26\n",
      "101876/101876 [==============================] - 1s 10us/step - loss: 0.9328 - accuracy: 0.5458 - val_loss: 0.9300 - val_accuracy: 0.5449\n",
      "Epoch 9/26\n",
      "101876/101876 [==============================] - 1s 9us/step - loss: 0.9323 - accuracy: 0.5450 - val_loss: 0.9311 - val_accuracy: 0.5455\n",
      "Epoch 10/26\n",
      "101876/101876 [==============================] - 1s 9us/step - loss: 0.9321 - accuracy: 0.5445 - val_loss: 0.9310 - val_accuracy: 0.5456\n",
      "Epoch 11/26\n",
      "101876/101876 [==============================] - 1s 8us/step - loss: 0.9312 - accuracy: 0.5452 - val_loss: 0.9297 - val_accuracy: 0.5483\n",
      "Epoch 12/26\n",
      "101876/101876 [==============================] - 1s 9us/step - loss: 0.9316 - accuracy: 0.5446 - val_loss: 0.9288 - val_accuracy: 0.5465\n",
      "Epoch 13/26\n",
      "101876/101876 [==============================] - 1s 9us/step - loss: 0.9314 - accuracy: 0.5444 - val_loss: 0.9296 - val_accuracy: 0.5478\n",
      "Epoch 14/26\n",
      "101876/101876 [==============================] - 1s 8us/step - loss: 0.9305 - accuracy: 0.5449 - val_loss: 0.9300 - val_accuracy: 0.5446\n",
      "Epoch 15/26\n",
      "101876/101876 [==============================] - 1s 11us/step - loss: 0.9305 - accuracy: 0.5452 - val_loss: 0.9285 - val_accuracy: 0.5475\n",
      "Epoch 16/26\n",
      "101876/101876 [==============================] - 1s 10us/step - loss: 0.9312 - accuracy: 0.5446 - val_loss: 0.9283 - val_accuracy: 0.5484\n",
      "Epoch 17/26\n",
      "101876/101876 [==============================] - 1s 9us/step - loss: 0.9304 - accuracy: 0.5452 - val_loss: 0.9290 - val_accuracy: 0.5464\n",
      "Epoch 18/26\n",
      "101876/101876 [==============================] - 1s 8us/step - loss: 0.9303 - accuracy: 0.5459 - val_loss: 0.9286 - val_accuracy: 0.5491\n",
      "Epoch 19/26\n",
      "101876/101876 [==============================] - 1s 8us/step - loss: 0.9301 - accuracy: 0.5457 - val_loss: 0.9304 - val_accuracy: 0.5458\n",
      "Epoch 20/26\n",
      "101876/101876 [==============================] - 1s 9us/step - loss: 0.9299 - accuracy: 0.5460 - val_loss: 0.9286 - val_accuracy: 0.5480\n",
      "Epoch 21/26\n",
      "101876/101876 [==============================] - 1s 8us/step - loss: 0.9299 - accuracy: 0.5460 - val_loss: 0.9334 - val_accuracy: 0.5385\n",
      "Epoch 22/26\n",
      "101876/101876 [==============================] - 1s 9us/step - loss: 0.9298 - accuracy: 0.5456 - val_loss: 0.9289 - val_accuracy: 0.5467\n",
      "Epoch 23/26\n",
      "101876/101876 [==============================] - 1s 10us/step - loss: 0.9295 - accuracy: 0.5457 - val_loss: 0.9281 - val_accuracy: 0.5475\n",
      "Epoch 24/26\n",
      "101876/101876 [==============================] - 1s 9us/step - loss: 0.9300 - accuracy: 0.5443 - val_loss: 0.9282 - val_accuracy: 0.5473\n",
      "Epoch 25/26\n",
      "101876/101876 [==============================] - 1s 10us/step - loss: 0.9298 - accuracy: 0.5453 - val_loss: 0.9282 - val_accuracy: 0.5446\n",
      "Epoch 26/26\n",
      "101876/101876 [==============================] - 1s 8us/step - loss: 0.9296 - accuracy: 0.5457 - val_loss: 0.9275 - val_accuracy: 0.5495\n"
     ]
    }
   ],
   "source": [
    "#Neural Network\n",
    "\n",
    "Y_train = Y_train.astype('category').cat.codes  #Reformating Y-train to fit with Neural Network model\n",
    "Y_test = Y_test.astype('category').cat.codes    #Reformating Y-train to fit with Neural Network model\n",
    "\n",
    "model = keras.Sequential([                      #Initialize the Neural Network Model\n",
    " keras.layers.Dense(16, activation=tf.nn.elu,                  \n",
    " input_shape=(training_norm_col.shape[1],)),\n",
    " keras.layers.Dense(64, activation=tf.nn.elu),\n",
    " keras.layers.Dense(8, activation=  'softmax')\n",
    " ])\n",
    "\n",
    "opt = SGD(lr=0.01, momentum=0.9)\n",
    "model.compile(optimizer=opt,                    \n",
    "              loss='sparse_categorical_crossentropy',\n",
    "              metrics=['accuracy'])\n",
    "history1 = model.fit(                                 #Training and Testing the model\n",
    " training_norm_col, Y_train,\n",
    " epochs= 26, batch_size = 400,\n",
    " validation_data = (testing_norm_col, Y_test))"
   ]
  },
  {
   "cell_type": "code",
   "execution_count": 172,
   "metadata": {},
   "outputs": [],
   "source": [
    "predicted = model.predict_classes(testing_norm_col)"
   ]
  },
  {
   "cell_type": "code",
   "execution_count": 106,
   "metadata": {},
   "outputs": [
    {
     "data": {
      "text/html": [
       "<div>\n",
       "<style scoped>\n",
       "    .dataframe tbody tr th:only-of-type {\n",
       "        vertical-align: middle;\n",
       "    }\n",
       "\n",
       "    .dataframe tbody tr th {\n",
       "        vertical-align: top;\n",
       "    }\n",
       "\n",
       "    .dataframe thead th {\n",
       "        text-align: right;\n",
       "    }\n",
       "</style>\n",
       "<table border=\"1\" class=\"dataframe\">\n",
       "  <thead>\n",
       "    <tr style=\"text-align: right;\">\n",
       "      <th></th>\n",
       "      <th>Good</th>\n",
       "      <th>Bad</th>\n",
       "      <th>Neutral</th>\n",
       "    </tr>\n",
       "  </thead>\n",
       "  <tbody>\n",
       "    <tr>\n",
       "      <td>Good</td>\n",
       "      <td>10249</td>\n",
       "      <td>2772</td>\n",
       "      <td>2329</td>\n",
       "    </tr>\n",
       "    <tr>\n",
       "      <td>Bad</td>\n",
       "      <td>2389</td>\n",
       "      <td>10790</td>\n",
       "      <td>1850</td>\n",
       "    </tr>\n",
       "    <tr>\n",
       "      <td>Neutral</td>\n",
       "      <td>5687</td>\n",
       "      <td>4726</td>\n",
       "      <td>2870</td>\n",
       "    </tr>\n",
       "  </tbody>\n",
       "</table>\n",
       "</div>"
      ],
      "text/plain": [
       "          Good    Bad  Neutral\n",
       "Good     10249   2772     2329\n",
       "Bad       2389  10790     1850\n",
       "Neutral   5687   4726     2870"
      ]
     },
     "execution_count": 106,
     "metadata": {},
     "output_type": "execute_result"
    }
   ],
   "source": [
    "#Confusion Matrix for Neural Network models\n",
    "matrix = metrics.confusion_matrix(Y_test.array, predicted)\n",
    "df_matrix = pd.DataFrame(matrix, index=[\"Good\", \"Bad\", \"Neutral\"], columns=[\"Good\", \"Bad\", \"Neutral\"])\n",
    "df_matrix"
   ]
  }
 ],
 "metadata": {
  "kernelspec": {
   "display_name": "Python 3",
   "language": "python",
   "name": "python3"
  },
  "language_info": {
   "codemirror_mode": {
    "name": "ipython",
    "version": 3
   },
   "file_extension": ".py",
   "mimetype": "text/x-python",
   "name": "python",
   "nbconvert_exporter": "python",
   "pygments_lexer": "ipython3",
   "version": "3.7.4"
  }
 },
 "nbformat": 4,
 "nbformat_minor": 2
}
